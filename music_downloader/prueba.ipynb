{
 "cells": [
  {
   "cell_type": "code",
   "execution_count": 1,
   "metadata": {},
   "outputs": [],
   "source": [
    "import requests\n",
    "from bs4 import BeautifulSoup\n",
    "from selenium import webdriver\n",
    "from selenium.webdriver.common.by import By"
   ]
  },
  {
   "cell_type": "code",
   "execution_count": 12,
   "metadata": {},
   "outputs": [],
   "source": [
    "url = \"https://www.youtube.com/watch?v=dQw4w9WgXcQ\""
   ]
  },
  {
   "cell_type": "code",
   "execution_count": 13,
   "metadata": {},
   "outputs": [],
   "source": [
    "driver = webdriver.Chrome()\n",
    "driver.get(url)"
   ]
  },
  {
   "cell_type": "code",
   "execution_count": 14,
   "metadata": {},
   "outputs": [],
   "source": [
    "driver.get(\"https://www.youtube.com\")"
   ]
  },
  {
   "cell_type": "code",
   "execution_count": 4,
   "metadata": {},
   "outputs": [],
   "source": [
    "\n",
    "driver.find_element(\n",
    "    by=By.XPATH,\n",
    "    value=\"/html/body/ytd-app/ytd-consent-bump-v2-lightbox/tp-yt-paper-dialog/div[4]/div[2]/div[6]/div[1]/ytd-button-renderer[1]/yt-button-shape/button/yt-touch-feedback-shape/div/div[2]\",\n",
    ").click()"
   ]
  },
  {
   "cell_type": "code",
   "execution_count": 5,
   "metadata": {},
   "outputs": [],
   "source": [
    "driver.find_element(\n",
    "    by=By.XPATH,\n",
    "    value=\"/html/body/ytd-app/div[1]/ytd-page-manager/ytd-watch-flexy/div[5]/div[1]/div/div[2]/ytd-watch-metadata/div/div[4]/div[1]/div/ytd-text-inline-expander/tp-yt-paper-button[1]\",\n",
    ").click()"
   ]
  },
  {
   "cell_type": "code",
   "execution_count": 6,
   "metadata": {},
   "outputs": [],
   "source": [
    "html = driver.page_source\n",
    "driver.quit()"
   ]
  },
  {
   "cell_type": "code",
   "execution_count": 7,
   "metadata": {},
   "outputs": [],
   "source": [
    "soup = BeautifulSoup(html, features=\"html.parser\")"
   ]
  },
  {
   "cell_type": "code",
   "execution_count": 11,
   "metadata": {},
   "outputs": [
    {
     "name": "stdout",
     "output_type": "stream",
     "text": [
      "<title>Rick Astley - Never Gonna Give You Up (Official Music Video) - YouTube</title>\n",
      "[<div class=\"style-scope ytd-watch-metadata\" hidden=\"\" id=\"description-text-container\">\n",
      "<yt-attributed-string class=\"style-scope ytd-watch-metadata\" disable-upgrade=\"\" hidden=\"\" id=\"attributed-description-text\">\n",
      "</yt-attributed-string>\n",
      "<yt-formatted-string class=\"style-scope ytd-watch-metadata\" disable-upgrade=\"\" hidden=\"\" id=\"formatted-description-text\">\n",
      "</yt-formatted-string>\n",
      "<ytd-structured-description-content-renderer class=\"style-scope ytd-watch-metadata\" disable-upgrade=\"\" id=\"faded-structured-description\" inline-structured-description=\"\">\n",
      "</ytd-structured-description-content-renderer>\n",
      "<ytd-metadata-row-container-renderer class=\"style-scope ytd-watch-metadata\" disable-upgrade=\"\">\n",
      "</ytd-metadata-row-container-renderer>\n",
      "<tp-yt-paper-button animated=\"\" aria-disabled=\"false\" class=\"button style-scope ytd-watch-metadata\" elevation=\"0\" id=\"collapse-button\" role=\"button\" style-target=\"host\" tabindex=\"0\"><!--css-build:shady-->Mostrar menos</tp-yt-paper-button>\n",
      "</div>]\n",
      "Never Gonna Give You Up (7\" Mix)\n"
     ]
    }
   ],
   "source": [
    "# soup = BeautifulSoup(r.text, features=\"html.parser\")\n",
    "print(soup.title)\n",
    "print(soup.find_all(id=\"description-text-container\"))\n",
    "print(soup.find(\"h3\", attrs={\"class\": \"yt-video-attribute-view-model__title\"}).text)"
   ]
  },
  {
   "cell_type": "code",
   "execution_count": 10,
   "metadata": {},
   "outputs": [
    {
     "name": "stdout",
     "output_type": "stream",
     "text": [
      "Rick Astley\n"
     ]
    }
   ],
   "source": [
    "print(soup.find(\"h4\", attrs={\"class\": \"yt-video-attribute-view-model__subtitle\"}).text)"
   ]
  }
 ],
 "metadata": {
  "kernelspec": {
   "display_name": "venv",
   "language": "python",
   "name": "python3"
  },
  "language_info": {
   "codemirror_mode": {
    "name": "ipython",
    "version": 3
   },
   "file_extension": ".py",
   "mimetype": "text/x-python",
   "name": "python",
   "nbconvert_exporter": "python",
   "pygments_lexer": "ipython3",
   "version": "3.10.8"
  }
 },
 "nbformat": 4,
 "nbformat_minor": 2
}
